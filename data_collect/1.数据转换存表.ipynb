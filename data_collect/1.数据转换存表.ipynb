{
 "cells": [
  {
   "cell_type": "code",
   "execution_count": 1,
   "metadata": {
    "collapsed": true
   },
   "outputs": [],
   "source": [
    "import pandas as pd\n",
    "import dolphindb as ddb\n",
    "from config import *"
   ]
  },
  {
   "cell_type": "code",
   "execution_count": 108,
   "outputs": [
    {
     "name": "stdout",
     "output_type": "stream",
     "text": [
      "235218\n",
      "2024-12-09 09:00:00.500000\n",
      "2024-12-31 14:59:59\n"
     ]
    }
   ],
   "source": [
    "df = pd.read_csv('data/AL_2025-01-01.csv')\n",
    "df['time'] = df['time'].astype(str).str.replace('.', '')\n",
    "df['time'] = pd.to_datetime(df['time'], format='%Y%m%d%H%M%S%f')\n",
    "df = df[['time', 'current', 'high', 'low', 'volume', 'money',\n",
    "       'a1_v', 'a1_p', 'b1_v', 'b1_p', 'contract', 'symbol']]\n",
    "print(df.shape[0])\n",
    "print(df['time'].min())\n",
    "print(df['time'].max())"
   ],
   "metadata": {
    "collapsed": false
   }
  },
  {
   "cell_type": "code",
   "execution_count": 109,
   "outputs": [
    {
     "data": {
      "text/plain": "235218"
     },
     "execution_count": 109,
     "metadata": {},
     "output_type": "execute_result"
    }
   ],
   "source": [
    "s = ddb.Session()\n",
    "s.connect(DB_IP, DB_PORT, DB_ROOT, DB_ROOT_PASSWORD)\n",
    "s.run(\"pt = loadTable('dfs://ticks', 'future_ticks')\")\n",
    "s.upload({\"dfTick\": df})\n",
    "s.run(\"tableInsert(pt, dfTick)\")"
   ],
   "metadata": {
    "collapsed": false
   }
  },
  {
   "cell_type": "code",
   "execution_count": null,
   "outputs": [],
   "source": [],
   "metadata": {
    "collapsed": false
   }
  }
 ],
 "metadata": {
  "kernelspec": {
   "display_name": "Python 3",
   "language": "python",
   "name": "python3"
  },
  "language_info": {
   "codemirror_mode": {
    "name": "ipython",
    "version": 2
   },
   "file_extension": ".py",
   "mimetype": "text/x-python",
   "name": "python",
   "nbconvert_exporter": "python",
   "pygments_lexer": "ipython2",
   "version": "2.7.6"
  }
 },
 "nbformat": 4,
 "nbformat_minor": 0
}
