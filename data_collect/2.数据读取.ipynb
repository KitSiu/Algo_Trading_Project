{
 "cells": [
  {
   "cell_type": "code",
   "execution_count": 1,
   "metadata": {
    "collapsed": true
   },
   "outputs": [],
   "source": [
    "import pandas as pd\n",
    "import dolphindb as ddb\n",
    "from config import *\n",
    "\n",
    "# 创建 DolphinDB 会话\n",
    "s = ddb.session()\n",
    "s.connect(DB_IP, DB_PORT, DB_USER, DB_PASSWORD)\n",
    "# 定义查询语句\n",
    "query = \"\"\"\n",
    "select * from loadTable('dfs://ticks', 'future_ticks') where date(time) = 2010.06.11\n",
    "\"\"\"\n",
    "\n",
    "# 执行查询并将结果转换为 pandas DataFrame\n",
    "df = s.run(query)"
   ]
  },
  {
   "cell_type": "code",
   "execution_count": 3,
   "outputs": [
    {
     "data": {
      "text/plain": "                     time  current     high      low  volume      money  a1_v  \\\n0 2010-06-11 07:42:43.000  14515.0  14515.0  14515.0     0.0        0.0   0.0   \n1 2010-06-11 08:59:00.000  14630.0  14630.0  14515.0    46.0  3364900.0   9.0   \n2 2010-06-11 09:00:00.000  14640.0  14640.0  14515.0    52.0  3804100.0   7.0   \n3 2010-06-11 09:00:01.000  14630.0  14640.0  14515.0    82.0  5999900.0  22.0   \n4 2010-06-11 09:00:01.500  14640.0  14640.0  14515.0    90.0  6585500.0  22.0   \n\n      a1_p  b1_v     b1_p     contract symbol  \n0      0.0   0.0      0.0  AL1009.XSGE     AL  \n1  14640.0   5.0  14630.0  AL1009.XSGE     AL  \n2  14640.0   7.0  14630.0  AL1009.XSGE     AL  \n3  14645.0   9.0  14630.0  AL1009.XSGE     AL  \n4  14645.0   1.0  14640.0  AL1009.XSGE     AL  ",
      "text/html": "<div>\n<style scoped>\n    .dataframe tbody tr th:only-of-type {\n        vertical-align: middle;\n    }\n\n    .dataframe tbody tr th {\n        vertical-align: top;\n    }\n\n    .dataframe thead th {\n        text-align: right;\n    }\n</style>\n<table border=\"1\" class=\"dataframe\">\n  <thead>\n    <tr style=\"text-align: right;\">\n      <th></th>\n      <th>time</th>\n      <th>current</th>\n      <th>high</th>\n      <th>low</th>\n      <th>volume</th>\n      <th>money</th>\n      <th>a1_v</th>\n      <th>a1_p</th>\n      <th>b1_v</th>\n      <th>b1_p</th>\n      <th>contract</th>\n      <th>symbol</th>\n    </tr>\n  </thead>\n  <tbody>\n    <tr>\n      <th>0</th>\n      <td>2010-06-11 07:42:43.000</td>\n      <td>14515.0</td>\n      <td>14515.0</td>\n      <td>14515.0</td>\n      <td>0.0</td>\n      <td>0.0</td>\n      <td>0.0</td>\n      <td>0.0</td>\n      <td>0.0</td>\n      <td>0.0</td>\n      <td>AL1009.XSGE</td>\n      <td>AL</td>\n    </tr>\n    <tr>\n      <th>1</th>\n      <td>2010-06-11 08:59:00.000</td>\n      <td>14630.0</td>\n      <td>14630.0</td>\n      <td>14515.0</td>\n      <td>46.0</td>\n      <td>3364900.0</td>\n      <td>9.0</td>\n      <td>14640.0</td>\n      <td>5.0</td>\n      <td>14630.0</td>\n      <td>AL1009.XSGE</td>\n      <td>AL</td>\n    </tr>\n    <tr>\n      <th>2</th>\n      <td>2010-06-11 09:00:00.000</td>\n      <td>14640.0</td>\n      <td>14640.0</td>\n      <td>14515.0</td>\n      <td>52.0</td>\n      <td>3804100.0</td>\n      <td>7.0</td>\n      <td>14640.0</td>\n      <td>7.0</td>\n      <td>14630.0</td>\n      <td>AL1009.XSGE</td>\n      <td>AL</td>\n    </tr>\n    <tr>\n      <th>3</th>\n      <td>2010-06-11 09:00:01.000</td>\n      <td>14630.0</td>\n      <td>14640.0</td>\n      <td>14515.0</td>\n      <td>82.0</td>\n      <td>5999900.0</td>\n      <td>22.0</td>\n      <td>14645.0</td>\n      <td>9.0</td>\n      <td>14630.0</td>\n      <td>AL1009.XSGE</td>\n      <td>AL</td>\n    </tr>\n    <tr>\n      <th>4</th>\n      <td>2010-06-11 09:00:01.500</td>\n      <td>14640.0</td>\n      <td>14640.0</td>\n      <td>14515.0</td>\n      <td>90.0</td>\n      <td>6585500.0</td>\n      <td>22.0</td>\n      <td>14645.0</td>\n      <td>1.0</td>\n      <td>14640.0</td>\n      <td>AL1009.XSGE</td>\n      <td>AL</td>\n    </tr>\n  </tbody>\n</table>\n</div>"
     },
     "execution_count": 3,
     "metadata": {},
     "output_type": "execute_result"
    }
   ],
   "source": [
    "df.head()"
   ],
   "metadata": {
    "collapsed": false
   }
  }
 ],
 "metadata": {
  "kernelspec": {
   "display_name": "Python 3",
   "language": "python",
   "name": "python3"
  },
  "language_info": {
   "codemirror_mode": {
    "name": "ipython",
    "version": 2
   },
   "file_extension": ".py",
   "mimetype": "text/x-python",
   "name": "python",
   "nbconvert_exporter": "python",
   "pygments_lexer": "ipython2",
   "version": "2.7.6"
  }
 },
 "nbformat": 4,
 "nbformat_minor": 0
}
