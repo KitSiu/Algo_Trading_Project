{
 "cells": [
  {
   "cell_type": "code",
   "execution_count": 1,
   "metadata": {
    "collapsed": true
   },
   "outputs": [],
   "source": [
    "import pandas as pd\n",
    "import dolphindb as ddb\n",
    "from config import *\n",
    "\n",
    "# 创建 DolphinDB 会话\n",
    "s = ddb.session()\n",
    "s.connect(DB_IP, DB_PORT, DB_USER, DB_PASSWORD)\n",
    "# 定义查询语句\n",
    "query = \"\"\"\n",
    "select * from loadTable('dfs://ticks', 'future_ticks') where time = 2010.06.11\n",
    "\"\"\"\n",
    "\n",
    "# 执行查询并将结果转换为 pandas DataFrame\n",
    "df = s.run(query)"
   ]
  },
  {
   "cell_type": "code",
   "execution_count": 2,
   "outputs": [
    {
     "data": {
      "text/plain": "                         time  current     high      low   volume  \\\n0     2010-06-11 07:42:43.000  14515.0  14515.0  14515.0      0.0   \n1     2010-06-11 08:59:00.000  14630.0  14630.0  14515.0     46.0   \n2     2010-06-11 09:00:00.000  14640.0  14640.0  14515.0     52.0   \n3     2010-06-11 09:00:01.000  14630.0  14640.0  14515.0     82.0   \n4     2010-06-11 09:00:01.500  14640.0  14640.0  14515.0     90.0   \n...                       ...      ...      ...      ...      ...   \n15239 2010-06-11 14:59:57.000  14690.0  14695.0  14515.0  66004.0   \n15240 2010-06-11 14:59:57.500  14690.0  14695.0  14515.0  66014.0   \n15241 2010-06-11 14:59:58.000  14685.0  14695.0  14515.0  66018.0   \n15242 2010-06-11 14:59:59.000  14685.0  14695.0  14515.0  66022.0   \n15243 2010-06-11 15:00:00.000  14685.0  14695.0  14515.0  66022.0   \n\n              money  a1_v     a1_p  b1_v     b1_p     contract symbol  \n0      0.000000e+00   0.0      0.0   0.0      0.0  AL1009.XSGE     AL  \n1      3.364900e+06   9.0  14640.0   5.0  14630.0  AL1009.XSGE     AL  \n2      3.804100e+06   7.0  14640.0   7.0  14630.0  AL1009.XSGE     AL  \n3      5.999900e+06  22.0  14645.0   9.0  14630.0  AL1009.XSGE     AL  \n4      6.585500e+06  22.0  14645.0   1.0  14640.0  AL1009.XSGE     AL  \n...             ...   ...      ...   ...      ...          ...    ...  \n15239  4.832610e+09  16.0  14690.0   1.0  14685.0  AL1009.XSGE     AL  \n15240  4.833344e+09  11.0  14690.0   1.0  14685.0  AL1009.XSGE     AL  \n15241  4.833638e+09   4.0  14685.0  40.0  14675.0  AL1009.XSGE     AL  \n15242  4.833932e+09   2.0  14685.0  40.0  14675.0  AL1009.XSGE     AL  \n15243  4.833932e+09   2.0  14685.0  40.0  14675.0  AL1009.XSGE     AL  \n\n[15244 rows x 12 columns]",
      "text/html": "<div>\n<style scoped>\n    .dataframe tbody tr th:only-of-type {\n        vertical-align: middle;\n    }\n\n    .dataframe tbody tr th {\n        vertical-align: top;\n    }\n\n    .dataframe thead th {\n        text-align: right;\n    }\n</style>\n<table border=\"1\" class=\"dataframe\">\n  <thead>\n    <tr style=\"text-align: right;\">\n      <th></th>\n      <th>time</th>\n      <th>current</th>\n      <th>high</th>\n      <th>low</th>\n      <th>volume</th>\n      <th>money</th>\n      <th>a1_v</th>\n      <th>a1_p</th>\n      <th>b1_v</th>\n      <th>b1_p</th>\n      <th>contract</th>\n      <th>symbol</th>\n    </tr>\n  </thead>\n  <tbody>\n    <tr>\n      <th>0</th>\n      <td>2010-06-11 07:42:43.000</td>\n      <td>14515.0</td>\n      <td>14515.0</td>\n      <td>14515.0</td>\n      <td>0.0</td>\n      <td>0.000000e+00</td>\n      <td>0.0</td>\n      <td>0.0</td>\n      <td>0.0</td>\n      <td>0.0</td>\n      <td>AL1009.XSGE</td>\n      <td>AL</td>\n    </tr>\n    <tr>\n      <th>1</th>\n      <td>2010-06-11 08:59:00.000</td>\n      <td>14630.0</td>\n      <td>14630.0</td>\n      <td>14515.0</td>\n      <td>46.0</td>\n      <td>3.364900e+06</td>\n      <td>9.0</td>\n      <td>14640.0</td>\n      <td>5.0</td>\n      <td>14630.0</td>\n      <td>AL1009.XSGE</td>\n      <td>AL</td>\n    </tr>\n    <tr>\n      <th>2</th>\n      <td>2010-06-11 09:00:00.000</td>\n      <td>14640.0</td>\n      <td>14640.0</td>\n      <td>14515.0</td>\n      <td>52.0</td>\n      <td>3.804100e+06</td>\n      <td>7.0</td>\n      <td>14640.0</td>\n      <td>7.0</td>\n      <td>14630.0</td>\n      <td>AL1009.XSGE</td>\n      <td>AL</td>\n    </tr>\n    <tr>\n      <th>3</th>\n      <td>2010-06-11 09:00:01.000</td>\n      <td>14630.0</td>\n      <td>14640.0</td>\n      <td>14515.0</td>\n      <td>82.0</td>\n      <td>5.999900e+06</td>\n      <td>22.0</td>\n      <td>14645.0</td>\n      <td>9.0</td>\n      <td>14630.0</td>\n      <td>AL1009.XSGE</td>\n      <td>AL</td>\n    </tr>\n    <tr>\n      <th>4</th>\n      <td>2010-06-11 09:00:01.500</td>\n      <td>14640.0</td>\n      <td>14640.0</td>\n      <td>14515.0</td>\n      <td>90.0</td>\n      <td>6.585500e+06</td>\n      <td>22.0</td>\n      <td>14645.0</td>\n      <td>1.0</td>\n      <td>14640.0</td>\n      <td>AL1009.XSGE</td>\n      <td>AL</td>\n    </tr>\n    <tr>\n      <th>...</th>\n      <td>...</td>\n      <td>...</td>\n      <td>...</td>\n      <td>...</td>\n      <td>...</td>\n      <td>...</td>\n      <td>...</td>\n      <td>...</td>\n      <td>...</td>\n      <td>...</td>\n      <td>...</td>\n      <td>...</td>\n    </tr>\n    <tr>\n      <th>15239</th>\n      <td>2010-06-11 14:59:57.000</td>\n      <td>14690.0</td>\n      <td>14695.0</td>\n      <td>14515.0</td>\n      <td>66004.0</td>\n      <td>4.832610e+09</td>\n      <td>16.0</td>\n      <td>14690.0</td>\n      <td>1.0</td>\n      <td>14685.0</td>\n      <td>AL1009.XSGE</td>\n      <td>AL</td>\n    </tr>\n    <tr>\n      <th>15240</th>\n      <td>2010-06-11 14:59:57.500</td>\n      <td>14690.0</td>\n      <td>14695.0</td>\n      <td>14515.0</td>\n      <td>66014.0</td>\n      <td>4.833344e+09</td>\n      <td>11.0</td>\n      <td>14690.0</td>\n      <td>1.0</td>\n      <td>14685.0</td>\n      <td>AL1009.XSGE</td>\n      <td>AL</td>\n    </tr>\n    <tr>\n      <th>15241</th>\n      <td>2010-06-11 14:59:58.000</td>\n      <td>14685.0</td>\n      <td>14695.0</td>\n      <td>14515.0</td>\n      <td>66018.0</td>\n      <td>4.833638e+09</td>\n      <td>4.0</td>\n      <td>14685.0</td>\n      <td>40.0</td>\n      <td>14675.0</td>\n      <td>AL1009.XSGE</td>\n      <td>AL</td>\n    </tr>\n    <tr>\n      <th>15242</th>\n      <td>2010-06-11 14:59:59.000</td>\n      <td>14685.0</td>\n      <td>14695.0</td>\n      <td>14515.0</td>\n      <td>66022.0</td>\n      <td>4.833932e+09</td>\n      <td>2.0</td>\n      <td>14685.0</td>\n      <td>40.0</td>\n      <td>14675.0</td>\n      <td>AL1009.XSGE</td>\n      <td>AL</td>\n    </tr>\n    <tr>\n      <th>15243</th>\n      <td>2010-06-11 15:00:00.000</td>\n      <td>14685.0</td>\n      <td>14695.0</td>\n      <td>14515.0</td>\n      <td>66022.0</td>\n      <td>4.833932e+09</td>\n      <td>2.0</td>\n      <td>14685.0</td>\n      <td>40.0</td>\n      <td>14675.0</td>\n      <td>AL1009.XSGE</td>\n      <td>AL</td>\n    </tr>\n  </tbody>\n</table>\n<p>15244 rows × 12 columns</p>\n</div>"
     },
     "execution_count": 2,
     "metadata": {},
     "output_type": "execute_result"
    }
   ],
   "source": [
    "df"
   ],
   "metadata": {
    "collapsed": false
   }
  }
 ],
 "metadata": {
  "kernelspec": {
   "display_name": "Python 3",
   "language": "python",
   "name": "python3"
  },
  "language_info": {
   "codemirror_mode": {
    "name": "ipython",
    "version": 2
   },
   "file_extension": ".py",
   "mimetype": "text/x-python",
   "name": "python",
   "nbconvert_exporter": "python",
   "pygments_lexer": "ipython2",
   "version": "2.7.6"
  }
 },
 "nbformat": 4,
 "nbformat_minor": 0
}
